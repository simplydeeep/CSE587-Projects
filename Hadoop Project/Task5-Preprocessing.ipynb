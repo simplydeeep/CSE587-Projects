{
 "cells": [
  {
   "cell_type": "code",
   "execution_count": 23,
   "metadata": {},
   "outputs": [],
   "source": [
    "import pandas as pd\n",
    "import numpy as np\n",
    "from sklearn.preprocessing import MinMaxScaler \n",
    "from sklearn.neighbors import KNeighborsClassifier\n",
    "from numpy import savetxt"
   ]
  },
  {
   "cell_type": "code",
   "execution_count": 25,
   "metadata": {},
   "outputs": [],
   "source": [
    "#Read data from data set\n",
    "data1 = np.genfromtxt(\"/Users/deep/Downloads/Spring\\'20/CSE587/Assignment2/P5/Train.csv\", delimiter=\",\", skip_header=1)\n",
    "data2 = np.genfromtxt(\"/Users/deep/Downloads/Spring\\'20/CSE587/Assignment2/Train1.csv\", delimiter=\",\", skip_header=1)\n",
    "\n",
    "X_old = data1[:, :-1]\n",
    "Y_old = data1[:, -1]\n",
    "\n",
    "#Splitting the data into train(80%), test(20%)  \n",
    "X_train, X_test, Y_train, Y_test = train_test_split(X_old, Y_old, test_size=0.2)"
   ]
  },
  {
   "cell_type": "code",
   "execution_count": 26,
   "metadata": {},
   "outputs": [],
   "source": [
    "def Normalize(Xtrain, Xtest):\n",
    "    X = np.concatenate((Xtrain, Xtest), 0)\n",
    "    scaler = MinMaxScaler()\n",
    "    X = scaler.fit_transform(X)\n",
    "    X_left = X[:len(Xtrain),]\n",
    "    X_right = X[len(Xtrain):,]\n",
    "    return X_left, X_right"
   ]
  },
  {
   "cell_type": "code",
   "execution_count": 27,
   "metadata": {},
   "outputs": [],
   "source": [
    "def NormalizeTrain(Xtrain):\n",
    "    scaler = MinMaxScaler()\n",
    "    X = scaler.fit_transform(Xtrain)\n",
    "    return X"
   ]
  },
  {
   "cell_type": "code",
   "execution_count": 22,
   "metadata": {},
   "outputs": [],
   "source": [
    "out = NormalizeTrain(data2)\n",
    "np.savetxt(\"/Users/deep/Downloads/Spring\\'20/CSE587/Assignment2/Train_converted_num.csv\", out, delimiter=\",\")"
   ]
  },
  {
   "cell_type": "code",
   "execution_count": 28,
   "metadata": {},
   "outputs": [],
   "source": [
    "def Accuracy(y_t, y_p):\n",
    "    y_true = y_t\n",
    "    y_pred = y_p\n",
    "    total_count = len(y_true)\n",
    "    result = np.equal(y_true, y_pred)\n",
    "    count = np.count_nonzero(result)\n",
    "    accuracy = count / total_count\n",
    "    return accuracy"
   ]
  },
  {
   "cell_type": "code",
   "execution_count": 29,
   "metadata": {},
   "outputs": [],
   "source": [
    "Xtrain, Xtest = Normalize(X_train, X_test)\n",
    "Ytrain = Y_train\n",
    "Ytest = Y_test"
   ]
  },
  {
   "cell_type": "code",
   "execution_count": 30,
   "metadata": {},
   "outputs": [
    {
     "name": "stdout",
     "output_type": "stream",
     "text": [
      "KNN Accuracy: 0.986328125\n"
     ]
    }
   ],
   "source": [
    "knn = KNeighborsClassifier(n_neighbors = 3)\n",
    "knn.fit(Xtrain, Ytrain)\n",
    "knn_predict = knn.predict(Xtest)\n",
    "knn_acc = Accuracy(knn_predict, Ytest)\n",
    "print (\"KNN Accuracy:\", knn_acc)"
   ]
  },
  {
   "cell_type": "code",
   "execution_count": null,
   "metadata": {},
   "outputs": [],
   "source": []
  }
 ],
 "metadata": {
  "kernelspec": {
   "display_name": "Python 3",
   "language": "python",
   "name": "python3"
  },
  "language_info": {
   "codemirror_mode": {
    "name": "ipython",
    "version": 3
   },
   "file_extension": ".py",
   "mimetype": "text/x-python",
   "name": "python",
   "nbconvert_exporter": "python",
   "pygments_lexer": "ipython3",
   "version": "3.6.9"
  }
 },
 "nbformat": 4,
 "nbformat_minor": 2
}
